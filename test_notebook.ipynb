{
 "cells": [
  {
   "cell_type": "code",
   "execution_count": 1,
   "id": "06f1c610-082d-492d-a73d-2f1545c38a33",
   "metadata": {
    "tags": []
   },
   "outputs": [
    {
     "data": {
      "text/plain": [
       "10"
      ]
     },
     "execution_count": 1,
     "metadata": {},
     "output_type": "execute_result"
    }
   ],
   "source": [
    "5+5"
   ]
  },
  {
   "cell_type": "markdown",
   "id": "fc88be51-f83f-4fd2-905f-b1b1d280334e",
   "metadata": {},
   "source": [
    "<h1>test</h1>\n"
   ]
  },
  {
   "cell_type": "markdown",
   "id": "441478ed-960c-46b7-9ed7-a6fa8a81b2d0",
   "metadata": {},
   "source": [
    "## test subtitle\n",
    "\n",
    "test para"
   ]
  },
  {
   "cell_type": "code",
   "execution_count": null,
   "id": "6c3599e4-2c2f-47a2-94c9-203100965ab9",
   "metadata": {},
   "outputs": [],
   "source": []
  }
 ],
 "metadata": {
  "environment": {
   "kernel": "python3",
   "name": "common-cpu.m114",
   "type": "gcloud",
   "uri": "gcr.io/deeplearning-platform-release/base-cpu:m114"
  },
  "kernelspec": {
   "display_name": "Python 3",
   "language": "python",
   "name": "python3"
  },
  "language_info": {
   "codemirror_mode": {
    "name": "ipython",
    "version": 3
   },
   "file_extension": ".py",
   "mimetype": "text/x-python",
   "name": "python",
   "nbconvert_exporter": "python",
   "pygments_lexer": "ipython3",
   "version": "3.10.13"
  },
  "toc-autonumbering": false,
  "toc-showcode": false,
  "toc-showmarkdowntxt": false
 },
 "nbformat": 4,
 "nbformat_minor": 5
}
